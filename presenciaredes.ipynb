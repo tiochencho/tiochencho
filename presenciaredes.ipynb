{
  "nbformat": 4,
  "nbformat_minor": 0,
  "metadata": {
    "colab": {
      "name": "presenciaredes",
      "provenance": [],
      "collapsed_sections": []
    },
    "kernelspec": {
      "name": "python3",
      "display_name": "Python 3"
    },
    "language_info": {
      "name": "python"
    }
  },
  "cells": [
    {
      "cell_type": "code",
      "execution_count": 6,
      "metadata": {
        "colab": {
          "base_uri": "https://localhost:8080/",
          "height": 148
        },
        "id": "XwZfnJ6I-RMj",
        "outputId": "b476fab6-59f2-4611-bd53-6b50d7523d30"
      },
      "outputs": [
        {
          "output_type": "error",
          "ename": "IndentationError",
          "evalue": "ignored",
          "traceback": [
            "\u001b[0;36m  File \u001b[0;32m\"<ipython-input-6-1119604cf2fb>\"\u001b[0;36m, line \u001b[0;32m81\u001b[0m\n\u001b[0;31m    mesTwit =int(p[8][3])+int(p[8][4])+int(p[8][5])+int(p[8][6])+int(p[8][7])+int(p[8][8])\u001b[0m\n\u001b[0m          ^\u001b[0m\n\u001b[0;31mIndentationError\u001b[0m\u001b[0;31m:\u001b[0m expected an indented block\n"
          ]
        }
      ],
      "source": [
        "\n",
        "import numpy as np  \n",
        "import pandas as pd\n",
        "#Acceso al archivo\n",
        "chart_data=pd.read_csv (\"C:\\\\Users\\\\hp\\\\Downloads\\\\presenciaredes2.txt\")\n",
        "\n",
        "\n",
        "print(df)\n",
        "\n",
        "l = np.asarray(df) \n",
        "#diferencias\n",
        "def difFollows():\n",
        "  #arreglos bidimensionales para sacar la difenrncia\n",
        "    enero = int(l[7][3])\n",
        "    junio = int(l[7][8])\n",
        "    resul = enero-junio\n",
        "    diferencia = np.abs(resul)\n",
        "    print(f\" La diferencia entre enero y junio de seguidores es: {diferencia} seguidores\")\n",
        "\n",
        "difFollows()\n",
        "\n",
        "\n",
        "def difVisua():\n",
        "    a = int(l[15][3])\n",
        "    b = int(l[15][4])\n",
        "    c = int(l[15][5])\n",
        "    d = int(l[15][6])\n",
        "    e = int(l[15][7])\n",
        "    f = int(l[15][8])\n",
        "\n",
        "    opcion1 = input(\" Para el primer mes que quiera conocer, digite alguna de estas letras: a-Enero, b-Febrero, c-Marzo, d-Abril, e-Mayo, f-Junio: \")\n",
        "    opcion2 = input(\" Para el primer mes que quiera conocer, digite alguna de estas letras: a-Enero, b-Febrero, c-Marzo, d-Abril, e-Mayo, f-Junio: \")\n",
        "    import math\n",
        "\n",
        "    if opcion1 == \"a\":\n",
        "        opcion1 = a\n",
        "        mes1 = \"Enero\"\n",
        "    elif opcion1 == \"b\":\n",
        "        opcion1 = b\n",
        "        mes1 = \"Febrero\"\n",
        "    elif opcion1 == \"c\":\n",
        "        opcion1 = c\n",
        "        mes1 = \"Marzo\"\n",
        "    elif opcion1 == \"d\":\n",
        "        opcion1 = d\n",
        "        mes1 = \"Abril\"\n",
        "    elif opcion1 == \"e\":\n",
        "        opcion1 = e\n",
        "        mes1 = \"Mayo\"\n",
        "    elif opcion1 == \"f\":\n",
        "        opcion1 = f\n",
        "        mes1 = \"Junio\"\n",
        "\n",
        "    if opcion2 == \"a\":\n",
        "        opcion2 = a\n",
        "        mes2 = \"Enero\"\n",
        "    elif opcion2 == \"b\":\n",
        "        opcion2 = b\n",
        "        mes2 = \"Febrero\"\n",
        "    elif opcion2 == \"c\":\n",
        "        opcion2 = c\n",
        "        mes2 = \"Marzo\"\n",
        "    elif opcion2 == \"d\":\n",
        "        opcion2 = d\n",
        "        mes2 = \"Abril\"\n",
        "    elif opcion2 == \"e\":\n",
        "        opcion2 = e\n",
        "        mes2 = \"Mayo\"\n",
        "    elif opcion2 == \"f\":\n",
        "        opcion2 = f \n",
        "        mes2 = \"Junio\" \n",
        "\n",
        "    resultado = opcion1-opcion2\n",
        "    difVisualizaciones = np.abs(resultado)\n",
        "    print(f\" Esa es la diferencia de visualizaciones entre {mes1} y {mes2} son de {difVisualizaciones}\")\n",
        "\n",
        "difiaVisua()\n",
        "\n",
        "\n",
        " #Promedios\n",
        "\n",
        "mesTwit =int(p[8][3])+int(p[8][4])+int(p[8][5])+int(p[8][6])+int(p[8][7])+int(p[8][8])\n",
        "promedTwit=mesTwit/6\n",
        "print(\" El promedio de crecimiento de Twitter es de: \", promedTwit)\n",
        "\n",
        "\n",
        "mesFace = int(p[1][3])+int(p[1][4])+int(p[1][5])+int(p[1][6])+int(p[1][7])+int(p[1][8])\n",
        "promedFace = mesFac/6\n",
        "print(\" El promedio de crecimiento de Facebook es de: \", promedFace)\n",
        "crecimientoFcbyTwt()    \n"
      ]
    }
  ]
}